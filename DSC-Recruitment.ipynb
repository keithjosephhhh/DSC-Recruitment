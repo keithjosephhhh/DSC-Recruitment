{
 "cells": [
  {
   "cell_type": "markdown",
   "id": "ff0dae3a",
   "metadata": {},
   "source": [
    "# DSC RECRUITMENT TASK\n",
    "\n",
    "## Finding if a person has a part time job or not\n",
    "#### By Keith Joseph "
   ]
  },
  {
   "cell_type": "code",
   "execution_count": 265,
   "id": "58b6de8f",
   "metadata": {},
   "outputs": [],
   "source": [
    "import numpy as np\n",
    "import pandas as pd\n",
    "import seaborn as sns\n",
    "import matplotlib.pyplot as plt\n",
    "import pickle"
   ]
  },
  {
   "cell_type": "code",
   "execution_count": 225,
   "id": "4eca7458",
   "metadata": {},
   "outputs": [],
   "source": [
    "import warnings\n",
    "warnings.filterwarnings('ignore')"
   ]
  },
  {
   "cell_type": "code",
   "execution_count": 226,
   "id": "5983ded3",
   "metadata": {},
   "outputs": [
    {
     "data": {
      "text/html": [
       "<div>\n",
       "<style scoped>\n",
       "    .dataframe tbody tr th:only-of-type {\n",
       "        vertical-align: middle;\n",
       "    }\n",
       "\n",
       "    .dataframe tbody tr th {\n",
       "        vertical-align: top;\n",
       "    }\n",
       "\n",
       "    .dataframe thead th {\n",
       "        text-align: right;\n",
       "    }\n",
       "</style>\n",
       "<table border=\"1\" class=\"dataframe\">\n",
       "  <thead>\n",
       "    <tr style=\"text-align: right;\">\n",
       "      <th></th>\n",
       "      <th>Name</th>\n",
       "      <th>Age</th>\n",
       "      <th>Gender</th>\n",
       "      <th>Hours_Studied</th>\n",
       "      <th>IQ</th>\n",
       "      <th>Physics_Marks</th>\n",
       "      <th>Math_Marks</th>\n",
       "      <th>Chemistry_Marks</th>\n",
       "      <th>Has_Part_Time_Job</th>\n",
       "      <th>Study_Hours_Group</th>\n",
       "    </tr>\n",
       "  </thead>\n",
       "  <tbody>\n",
       "    <tr>\n",
       "      <th>0</th>\n",
       "      <td>Jason Vargas</td>\n",
       "      <td>19</td>\n",
       "      <td>Male</td>\n",
       "      <td>8.140821</td>\n",
       "      <td>92</td>\n",
       "      <td>87</td>\n",
       "      <td>43</td>\n",
       "      <td>85</td>\n",
       "      <td>True</td>\n",
       "      <td>High</td>\n",
       "    </tr>\n",
       "    <tr>\n",
       "      <th>1</th>\n",
       "      <td>Sandra Wiggins</td>\n",
       "      <td>35</td>\n",
       "      <td>Female</td>\n",
       "      <td>9.825626</td>\n",
       "      <td>112</td>\n",
       "      <td>86</td>\n",
       "      <td>81</td>\n",
       "      <td>54</td>\n",
       "      <td>False</td>\n",
       "      <td>High</td>\n",
       "    </tr>\n",
       "    <tr>\n",
       "      <th>2</th>\n",
       "      <td>Julia Olsen</td>\n",
       "      <td>33</td>\n",
       "      <td>Male</td>\n",
       "      <td>8.835372</td>\n",
       "      <td>131</td>\n",
       "      <td>87</td>\n",
       "      <td>52</td>\n",
       "      <td>57</td>\n",
       "      <td>True</td>\n",
       "      <td>High</td>\n",
       "    </tr>\n",
       "    <tr>\n",
       "      <th>3</th>\n",
       "      <td>Robert Pennington</td>\n",
       "      <td>33</td>\n",
       "      <td>Male</td>\n",
       "      <td>2.482483</td>\n",
       "      <td>138</td>\n",
       "      <td>70</td>\n",
       "      <td>86</td>\n",
       "      <td>83</td>\n",
       "      <td>False</td>\n",
       "      <td>Low</td>\n",
       "    </tr>\n",
       "    <tr>\n",
       "      <th>4</th>\n",
       "      <td>Kayla Sellers</td>\n",
       "      <td>28</td>\n",
       "      <td>Female</td>\n",
       "      <td>4.419793</td>\n",
       "      <td>90</td>\n",
       "      <td>95</td>\n",
       "      <td>48</td>\n",
       "      <td>83</td>\n",
       "      <td>True</td>\n",
       "      <td>Low</td>\n",
       "    </tr>\n",
       "  </tbody>\n",
       "</table>\n",
       "</div>"
      ],
      "text/plain": [
       "                Name  Age  Gender  Hours_Studied   IQ  Physics_Marks  \\\n",
       "0       Jason Vargas   19    Male       8.140821   92             87   \n",
       "1     Sandra Wiggins   35  Female       9.825626  112             86   \n",
       "2        Julia Olsen   33    Male       8.835372  131             87   \n",
       "3  Robert Pennington   33    Male       2.482483  138             70   \n",
       "4      Kayla Sellers   28  Female       4.419793   90             95   \n",
       "\n",
       "   Math_Marks  Chemistry_Marks  Has_Part_Time_Job Study_Hours_Group  \n",
       "0          43               85               True              High  \n",
       "1          81               54              False              High  \n",
       "2          52               57               True              High  \n",
       "3          86               83              False               Low  \n",
       "4          48               83               True               Low  "
      ]
     },
     "execution_count": 226,
     "metadata": {},
     "output_type": "execute_result"
    }
   ],
   "source": [
    "df = pd.read_csv(\"Student.csv\")\n",
    "df.head()"
   ]
  },
  {
   "cell_type": "code",
   "execution_count": 227,
   "id": "b94e845a",
   "metadata": {},
   "outputs": [
    {
     "data": {
      "text/html": [
       "<div>\n",
       "<style scoped>\n",
       "    .dataframe tbody tr th:only-of-type {\n",
       "        vertical-align: middle;\n",
       "    }\n",
       "\n",
       "    .dataframe tbody tr th {\n",
       "        vertical-align: top;\n",
       "    }\n",
       "\n",
       "    .dataframe thead th {\n",
       "        text-align: right;\n",
       "    }\n",
       "</style>\n",
       "<table border=\"1\" class=\"dataframe\">\n",
       "  <thead>\n",
       "    <tr style=\"text-align: right;\">\n",
       "      <th></th>\n",
       "      <th>Name</th>\n",
       "      <th>Age</th>\n",
       "      <th>Gender</th>\n",
       "      <th>Hours_Studied</th>\n",
       "      <th>IQ</th>\n",
       "      <th>Physics_Marks</th>\n",
       "      <th>Math_Marks</th>\n",
       "      <th>Chemistry_Marks</th>\n",
       "      <th>Has_Part_Time_Job</th>\n",
       "      <th>Study_Hours_Group</th>\n",
       "    </tr>\n",
       "  </thead>\n",
       "  <tbody>\n",
       "    <tr>\n",
       "      <th>4995</th>\n",
       "      <td>Steven Lynch</td>\n",
       "      <td>30</td>\n",
       "      <td>Female</td>\n",
       "      <td>3.653474</td>\n",
       "      <td>143</td>\n",
       "      <td>93</td>\n",
       "      <td>59</td>\n",
       "      <td>85</td>\n",
       "      <td>True</td>\n",
       "      <td>Low</td>\n",
       "    </tr>\n",
       "    <tr>\n",
       "      <th>4996</th>\n",
       "      <td>Donna Hamilton</td>\n",
       "      <td>33</td>\n",
       "      <td>Female</td>\n",
       "      <td>1.096493</td>\n",
       "      <td>132</td>\n",
       "      <td>68</td>\n",
       "      <td>70</td>\n",
       "      <td>99</td>\n",
       "      <td>True</td>\n",
       "      <td>Low</td>\n",
       "    </tr>\n",
       "    <tr>\n",
       "      <th>4997</th>\n",
       "      <td>Mrs. Ashley Howard</td>\n",
       "      <td>38</td>\n",
       "      <td>Male</td>\n",
       "      <td>4.156770</td>\n",
       "      <td>111</td>\n",
       "      <td>76</td>\n",
       "      <td>96</td>\n",
       "      <td>71</td>\n",
       "      <td>False</td>\n",
       "      <td>Low</td>\n",
       "    </tr>\n",
       "    <tr>\n",
       "      <th>4998</th>\n",
       "      <td>Kendra Murray</td>\n",
       "      <td>18</td>\n",
       "      <td>Female</td>\n",
       "      <td>6.788548</td>\n",
       "      <td>137</td>\n",
       "      <td>81</td>\n",
       "      <td>98</td>\n",
       "      <td>73</td>\n",
       "      <td>False</td>\n",
       "      <td>High</td>\n",
       "    </tr>\n",
       "    <tr>\n",
       "      <th>4999</th>\n",
       "      <td>Christine Rodriguez</td>\n",
       "      <td>38</td>\n",
       "      <td>Male</td>\n",
       "      <td>1.627111</td>\n",
       "      <td>95</td>\n",
       "      <td>52</td>\n",
       "      <td>70</td>\n",
       "      <td>74</td>\n",
       "      <td>True</td>\n",
       "      <td>Low</td>\n",
       "    </tr>\n",
       "  </tbody>\n",
       "</table>\n",
       "</div>"
      ],
      "text/plain": [
       "                     Name  Age  Gender  Hours_Studied   IQ  Physics_Marks  \\\n",
       "4995         Steven Lynch   30  Female       3.653474  143             93   \n",
       "4996       Donna Hamilton   33  Female       1.096493  132             68   \n",
       "4997   Mrs. Ashley Howard   38    Male       4.156770  111             76   \n",
       "4998        Kendra Murray   18  Female       6.788548  137             81   \n",
       "4999  Christine Rodriguez   38    Male       1.627111   95             52   \n",
       "\n",
       "      Math_Marks  Chemistry_Marks  Has_Part_Time_Job Study_Hours_Group  \n",
       "4995          59               85               True               Low  \n",
       "4996          70               99               True               Low  \n",
       "4997          96               71              False               Low  \n",
       "4998          98               73              False              High  \n",
       "4999          70               74               True               Low  "
      ]
     },
     "execution_count": 227,
     "metadata": {},
     "output_type": "execute_result"
    }
   ],
   "source": [
    "df.tail()"
   ]
  },
  {
   "cell_type": "markdown",
   "id": "91196408",
   "metadata": {},
   "source": [
    "# Data Preparation and Cleaning"
   ]
  },
  {
   "cell_type": "code",
   "execution_count": 228,
   "id": "a6ef6877",
   "metadata": {},
   "outputs": [
    {
     "data": {
      "text/plain": [
       "(5000, 10)"
      ]
     },
     "execution_count": 228,
     "metadata": {},
     "output_type": "execute_result"
    }
   ],
   "source": [
    "df.shape"
   ]
  },
  {
   "cell_type": "code",
   "execution_count": 229,
   "id": "8214e81d",
   "metadata": {},
   "outputs": [
    {
     "name": "stdout",
     "output_type": "stream",
     "text": [
      "<class 'pandas.core.frame.DataFrame'>\n",
      "RangeIndex: 5000 entries, 0 to 4999\n",
      "Data columns (total 10 columns):\n",
      " #   Column             Non-Null Count  Dtype  \n",
      "---  ------             --------------  -----  \n",
      " 0   Name               5000 non-null   object \n",
      " 1   Age                5000 non-null   int64  \n",
      " 2   Gender             5000 non-null   object \n",
      " 3   Hours_Studied      5000 non-null   float64\n",
      " 4   IQ                 5000 non-null   int64  \n",
      " 5   Physics_Marks      5000 non-null   int64  \n",
      " 6   Math_Marks         5000 non-null   int64  \n",
      " 7   Chemistry_Marks    5000 non-null   int64  \n",
      " 8   Has_Part_Time_Job  5000 non-null   bool   \n",
      " 9   Study_Hours_Group  5000 non-null   object \n",
      "dtypes: bool(1), float64(1), int64(5), object(3)\n",
      "memory usage: 356.6+ KB\n"
     ]
    }
   ],
   "source": [
    "df.info()"
   ]
  },
  {
   "cell_type": "code",
   "execution_count": 230,
   "id": "03708f89",
   "metadata": {},
   "outputs": [
    {
     "data": {
      "text/html": [
       "<div>\n",
       "<style scoped>\n",
       "    .dataframe tbody tr th:only-of-type {\n",
       "        vertical-align: middle;\n",
       "    }\n",
       "\n",
       "    .dataframe tbody tr th {\n",
       "        vertical-align: top;\n",
       "    }\n",
       "\n",
       "    .dataframe thead th {\n",
       "        text-align: right;\n",
       "    }\n",
       "</style>\n",
       "<table border=\"1\" class=\"dataframe\">\n",
       "  <thead>\n",
       "    <tr style=\"text-align: right;\">\n",
       "      <th></th>\n",
       "      <th>Age</th>\n",
       "      <th>Hours_Studied</th>\n",
       "      <th>IQ</th>\n",
       "      <th>Physics_Marks</th>\n",
       "      <th>Math_Marks</th>\n",
       "      <th>Chemistry_Marks</th>\n",
       "    </tr>\n",
       "  </thead>\n",
       "  <tbody>\n",
       "    <tr>\n",
       "      <th>count</th>\n",
       "      <td>5000.000000</td>\n",
       "      <td>5000.000000</td>\n",
       "      <td>5000.000000</td>\n",
       "      <td>5000.000000</td>\n",
       "      <td>5000.000000</td>\n",
       "      <td>5000.000000</td>\n",
       "    </tr>\n",
       "    <tr>\n",
       "      <th>mean</th>\n",
       "      <td>31.444800</td>\n",
       "      <td>5.499279</td>\n",
       "      <td>114.915200</td>\n",
       "      <td>70.311000</td>\n",
       "      <td>69.816000</td>\n",
       "      <td>69.798800</td>\n",
       "    </tr>\n",
       "    <tr>\n",
       "      <th>std</th>\n",
       "      <td>8.148388</td>\n",
       "      <td>2.588333</td>\n",
       "      <td>20.551839</td>\n",
       "      <td>17.753538</td>\n",
       "      <td>17.536626</td>\n",
       "      <td>17.487913</td>\n",
       "    </tr>\n",
       "    <tr>\n",
       "      <th>min</th>\n",
       "      <td>18.000000</td>\n",
       "      <td>1.002452</td>\n",
       "      <td>80.000000</td>\n",
       "      <td>40.000000</td>\n",
       "      <td>40.000000</td>\n",
       "      <td>40.000000</td>\n",
       "    </tr>\n",
       "    <tr>\n",
       "      <th>25%</th>\n",
       "      <td>24.000000</td>\n",
       "      <td>3.258910</td>\n",
       "      <td>97.000000</td>\n",
       "      <td>55.000000</td>\n",
       "      <td>54.000000</td>\n",
       "      <td>55.000000</td>\n",
       "    </tr>\n",
       "    <tr>\n",
       "      <th>50%</th>\n",
       "      <td>32.000000</td>\n",
       "      <td>5.474256</td>\n",
       "      <td>115.000000</td>\n",
       "      <td>71.000000</td>\n",
       "      <td>70.000000</td>\n",
       "      <td>70.000000</td>\n",
       "    </tr>\n",
       "    <tr>\n",
       "      <th>75%</th>\n",
       "      <td>38.000000</td>\n",
       "      <td>7.726088</td>\n",
       "      <td>133.000000</td>\n",
       "      <td>86.000000</td>\n",
       "      <td>85.000000</td>\n",
       "      <td>85.000000</td>\n",
       "    </tr>\n",
       "    <tr>\n",
       "      <th>max</th>\n",
       "      <td>45.000000</td>\n",
       "      <td>9.999925</td>\n",
       "      <td>150.000000</td>\n",
       "      <td>100.000000</td>\n",
       "      <td>100.000000</td>\n",
       "      <td>100.000000</td>\n",
       "    </tr>\n",
       "  </tbody>\n",
       "</table>\n",
       "</div>"
      ],
      "text/plain": [
       "               Age  Hours_Studied           IQ  Physics_Marks   Math_Marks  \\\n",
       "count  5000.000000    5000.000000  5000.000000    5000.000000  5000.000000   \n",
       "mean     31.444800       5.499279   114.915200      70.311000    69.816000   \n",
       "std       8.148388       2.588333    20.551839      17.753538    17.536626   \n",
       "min      18.000000       1.002452    80.000000      40.000000    40.000000   \n",
       "25%      24.000000       3.258910    97.000000      55.000000    54.000000   \n",
       "50%      32.000000       5.474256   115.000000      71.000000    70.000000   \n",
       "75%      38.000000       7.726088   133.000000      86.000000    85.000000   \n",
       "max      45.000000       9.999925   150.000000     100.000000   100.000000   \n",
       "\n",
       "       Chemistry_Marks  \n",
       "count      5000.000000  \n",
       "mean         69.798800  \n",
       "std          17.487913  \n",
       "min          40.000000  \n",
       "25%          55.000000  \n",
       "50%          70.000000  \n",
       "75%          85.000000  \n",
       "max         100.000000  "
      ]
     },
     "execution_count": 230,
     "metadata": {},
     "output_type": "execute_result"
    }
   ],
   "source": [
    "df.describe()"
   ]
  },
  {
   "cell_type": "code",
   "execution_count": 231,
   "id": "23d55be6",
   "metadata": {},
   "outputs": [
    {
     "data": {
      "text/plain": [
       "6"
      ]
     },
     "execution_count": 231,
     "metadata": {},
     "output_type": "execute_result"
    }
   ],
   "source": [
    "numerics = ['int16', 'int32', 'int64', 'float16', 'float32', 'float64']\n",
    "numeric_df = df.select_dtypes(include=numerics)\n",
    "\n",
    "len(numeric_df.columns)"
   ]
  },
  {
   "cell_type": "markdown",
   "id": "2b10739a",
   "metadata": {},
   "source": [
    "### Finding missing values"
   ]
  },
  {
   "cell_type": "code",
   "execution_count": 232,
   "id": "21b2cc1e",
   "metadata": {},
   "outputs": [
    {
     "data": {
      "text/plain": [
       "Name                 0\n",
       "Age                  0\n",
       "Gender               0\n",
       "Hours_Studied        0\n",
       "IQ                   0\n",
       "Physics_Marks        0\n",
       "Math_Marks           0\n",
       "Chemistry_Marks      0\n",
       "Has_Part_Time_Job    0\n",
       "Study_Hours_Group    0\n",
       "dtype: int64"
      ]
     },
     "execution_count": 232,
     "metadata": {},
     "output_type": "execute_result"
    }
   ],
   "source": [
    "df.isna().sum()"
   ]
  },
  {
   "cell_type": "markdown",
   "id": "61f9f5fd",
   "metadata": {},
   "source": [
    "There is no `null` value"
   ]
  },
  {
   "cell_type": "markdown",
   "id": "b8ed961f",
   "metadata": {},
   "source": [
    "# Data Exploration"
   ]
  },
  {
   "cell_type": "markdown",
   "id": "cf96c0fd",
   "metadata": {},
   "source": [
    "### Columns that we'll analyse\n",
    "\n",
    "* Age\n",
    "* Has_Part_Time_Job\n",
    "* Hours_Studied\n",
    "* IQ"
   ]
  },
  {
   "cell_type": "markdown",
   "id": "11a9bedf",
   "metadata": {},
   "source": [
    "#### Age"
   ]
  },
  {
   "cell_type": "code",
   "execution_count": 233,
   "id": "9114a6ca",
   "metadata": {},
   "outputs": [
    {
     "data": {
      "text/plain": [
       "28"
      ]
     },
     "execution_count": 233,
     "metadata": {},
     "output_type": "execute_result"
    }
   ],
   "source": [
    "Ages = df.Age.unique()\n",
    "len(Ages)"
   ]
  },
  {
   "cell_type": "code",
   "execution_count": 234,
   "id": "5300998e",
   "metadata": {},
   "outputs": [
    {
     "data": {
      "text/plain": [
       "19    200\n",
       "18    198\n",
       "23    198\n",
       "38    196\n",
       "30    194\n",
       "27    192\n",
       "34    192\n",
       "35    191\n",
       "39    187\n",
       "22    186\n",
       "45    183\n",
       "42    180\n",
       "32    178\n",
       "20    177\n",
       "37    177\n",
       "41    175\n",
       "43    175\n",
       "44    174\n",
       "40    173\n",
       "28    172\n",
       "25    172\n",
       "36    165\n",
       "21    165\n",
       "24    163\n",
       "33    162\n",
       "29    162\n",
       "31    157\n",
       "26    156\n",
       "Name: Age, dtype: int64"
      ]
     },
     "execution_count": 234,
     "metadata": {},
     "output_type": "execute_result"
    }
   ],
   "source": [
    "value = df.Age.value_counts()\n",
    "value"
   ]
  },
  {
   "cell_type": "code",
   "execution_count": 235,
   "id": "2cd51c64",
   "metadata": {},
   "outputs": [
    {
     "data": {
      "image/png": "[encoded data removed]",
      "text/plain": [
       "<Figure size 800x600 with 1 Axes>"
      ]
     },
     "metadata": {},
     "output_type": "display_data"
    }
   ],
   "source": [
    "plt.figure(figsize=(8, 6))\n",
    "plt.hist(data['Age'], bins=20, color='skyblue', edgecolor='black')\n",
    "plt.xlabel('Age')\n",
    "plt.ylabel('Count')\n",
    "plt.title('Age Distribution')\n",
    "plt.show()"
   ]
  },
  {
   "cell_type": "code",
   "execution_count": 236,
   "id": "e5e6c3cc",
   "metadata": {},
   "outputs": [
    {
     "data": {
      "text/plain": [
       "0"
      ]
     },
     "execution_count": 236,
     "metadata": {},
     "output_type": "execute_result"
    }
   ],
   "source": [
    "df.Age.isna().sum()"
   ]
  },
  {
   "cell_type": "markdown",
   "id": "83153d03",
   "metadata": {},
   "source": [
    "#### Has_Part_Time_Job"
   ]
  },
  {
   "cell_type": "code",
   "execution_count": 237,
   "id": "002914b4",
   "metadata": {},
   "outputs": [
    {
     "data": {
      "text/plain": [
       "array([ True, False])"
      ]
     },
     "execution_count": 237,
     "metadata": {},
     "output_type": "execute_result"
    }
   ],
   "source": [
    "Job = df.Has_Part_Time_Job.unique()\n",
    "Job"
   ]
  },
  {
   "cell_type": "code",
   "execution_count": 238,
   "id": "4aa454fa",
   "metadata": {},
   "outputs": [
    {
     "data": {
      "text/plain": [
       "True     2525\n",
       "False    2475\n",
       "Name: Has_Part_Time_Job, dtype: int64"
      ]
     },
     "execution_count": 238,
     "metadata": {},
     "output_type": "execute_result"
    }
   ],
   "source": [
    "part_time = df.Has_Part_Time_Job.value_counts()\n",
    "part_time"
   ]
  },
  {
   "cell_type": "code",
   "execution_count": 239,
   "id": "527ac344",
   "metadata": {},
   "outputs": [
    {
     "data": {
      "image/png": "[encoded data removed]",
      "text/plain": [
       "<Figure size 600x400 with 1 Axes>"
      ]
     },
     "metadata": {},
     "output_type": "display_data"
    }
   ],
   "source": [
    "plt.figure(figsize=(6, 4))\n",
    "part_time.plot(kind='bar', color='green')\n",
    "plt.xlabel('Has Part-Time Job')\n",
    "plt.ylabel('Count')\n",
    "plt.title('Part-Time Job Distribution')\n",
    "plt.xticks([0, 1], ['No', 'Yes'])\n",
    "plt.show()\n",
    "\n",
    "\n"
   ]
  },
  {
   "cell_type": "markdown",
   "id": "ee9dbbbd",
   "metadata": {},
   "source": [
    "#### Hours_Studied"
   ]
  },
  {
   "cell_type": "code",
   "execution_count": 240,
   "id": "dc6faf38",
   "metadata": {},
   "outputs": [
    {
     "data": {
      "text/plain": [
       "5000"
      ]
     },
     "execution_count": 240,
     "metadata": {},
     "output_type": "execute_result"
    }
   ],
   "source": [
    "Hours = df.Hours_Studied.unique()\n",
    "len(Hours)"
   ]
  },
  {
   "cell_type": "code",
   "execution_count": 241,
   "id": "cbdc1920",
   "metadata": {},
   "outputs": [
    {
     "data": {
      "text/plain": [
       "array([8.14082056, 9.82562647, 8.8353719 , ..., 4.15676969, 6.78854842,\n",
       "       1.62711148])"
      ]
     },
     "execution_count": 241,
     "metadata": {},
     "output_type": "execute_result"
    }
   ],
   "source": [
    "df.Hours_Studied.unique()"
   ]
  },
  {
   "cell_type": "code",
   "execution_count": 242,
   "id": "da254bc6",
   "metadata": {},
   "outputs": [
    {
     "name": "stdout",
     "output_type": "stream",
     "text": [
      "High    2763\n",
      "Low     2237\n",
      "Name: Study_Hours_Group, dtype: int64\n"
     ]
    }
   ],
   "source": [
    "study_hours = data['Study_Hours_Group'].value_counts()\n",
    "print(study_hours)"
   ]
  },
  {
   "cell_type": "code",
   "execution_count": 243,
   "id": "298033a0",
   "metadata": {},
   "outputs": [
    {
     "data": {
      "image/png": "[encoded data removed]",
      "text/plain": [
       "<Figure size 800x600 with 1 Axes>"
      ]
     },
     "metadata": {},
     "output_type": "display_data"
    }
   ],
   "source": [
    "plt.figure(figsize=(8, 6))\n",
    "study_hours.plot(kind='bar', color='orange')\n",
    "plt.xlabel('Study Hours Group')\n",
    "plt.ylabel('Count')\n",
    "plt.title('Study Hours Group Distribution')\n",
    "plt.show()"
   ]
  },
  {
   "cell_type": "markdown",
   "id": "6a1789f1",
   "metadata": {},
   "source": [
    "#### IQ"
   ]
  },
  {
   "cell_type": "code",
   "execution_count": 244,
   "id": "96788210",
   "metadata": {},
   "outputs": [
    {
     "data": {
      "text/plain": [
       "71"
      ]
     },
     "execution_count": 244,
     "metadata": {},
     "output_type": "execute_result"
    }
   ],
   "source": [
    "IQ = df.IQ.unique()\n",
    "len(IQ)"
   ]
  },
  {
   "cell_type": "code",
   "execution_count": 245,
   "id": "1e289b07",
   "metadata": {},
   "outputs": [
    {
     "data": {
      "text/plain": [
       "121    91\n",
       "87     89\n",
       "90     88\n",
       "91     87\n",
       "143    84\n",
       "       ..\n",
       "148    61\n",
       "139    61\n",
       "147    60\n",
       "101    58\n",
       "85     51\n",
       "Name: IQ, Length: 71, dtype: int64"
      ]
     },
     "execution_count": 245,
     "metadata": {},
     "output_type": "execute_result"
    }
   ],
   "source": [
    "df.IQ.value_counts()"
   ]
  },
  {
   "cell_type": "markdown",
   "id": "78c4b777",
   "metadata": {},
   "source": [
    "#### Gender"
   ]
  },
  {
   "cell_type": "code",
   "execution_count": 246,
   "id": "7c328287",
   "metadata": {},
   "outputs": [
    {
     "name": "stdout",
     "output_type": "stream",
     "text": [
      "Female    2523\n",
      "Male      2477\n",
      "Name: Gender, dtype: int64\n"
     ]
    }
   ],
   "source": [
    "Gender= data['Gender'].value_counts()\n",
    "print(Gender)"
   ]
  },
  {
   "cell_type": "code",
   "execution_count": 247,
   "id": "efd9130a",
   "metadata": {},
   "outputs": [
    {
     "data": {
      "image/png": "[encoded data removed]",
      "text/plain": [
       "<Figure size 600x400 with 1 Axes>"
      ]
     },
     "metadata": {},
     "output_type": "display_data"
    }
   ],
   "source": [
    "plt.figure(figsize=(6, 4))\n",
    "gender_counts.plot(kind='bar', color='purple')\n",
    "plt.xlabel('Gender')\n",
    "plt.ylabel('Count')\n",
    "plt.title('Gender Distribution')\n",
    "plt.show()"
   ]
  },
  {
   "cell_type": "code",
   "execution_count": 248,
   "id": "4ca028a2",
   "metadata": {},
   "outputs": [
    {
     "data": {
      "image/png": "[encoded data removed]",
      "text/plain": [
       "<Figure size 1000x800 with 2 Axes>"
      ]
     },
     "metadata": {},
     "output_type": "display_data"
    }
   ],
   "source": [
    "correlation_matrix = data[['Hours_Studied', 'IQ', 'Physics_Marks', 'Math_Marks', 'Chemistry_Marks']].corr()\n",
    "\n",
    "\n",
    "plt.figure(figsize=(10, 8))\n",
    "sns.heatmap(correlation_matrix, annot=True, cmap='coolwarm', fmt=\".2f\", linewidths=0.5)\n",
    "plt.title('Correlation Matrix')\n",
    "plt.show()\n"
   ]
  },
  {
   "cell_type": "code",
   "execution_count": 249,
   "id": "340dca0e",
   "metadata": {},
   "outputs": [
    {
     "data": {
      "image/png": "[encoded data removed]",
      "text/plain": [
       "<Figure size 1200x800 with 5 Axes>"
      ]
     },
     "metadata": {},
     "output_type": "display_data"
    }
   ],
   "source": [
    "# Finding Outliers in numeric data columns\n",
    "plt.figure(figsize=(12, 8))\n",
    "plt.subplot(2, 3, 1)\n",
    "sns.boxplot(y=data['Hours_Studied'], color='skyblue')\n",
    "plt.title('Hours Studied')\n",
    "\n",
    "plt.subplot(2, 3, 2)\n",
    "sns.boxplot(y=data['IQ'], color='purple')\n",
    "plt.title('IQ')\n",
    "\n",
    "plt.subplot(2, 3, 3)\n",
    "sns.boxplot(y=data['Physics_Marks'], color='green')\n",
    "plt.title('Physics Marks')\n",
    "\n",
    "plt.subplot(2, 3, 4)\n",
    "sns.boxplot(y=data['Math_Marks'], color='orange')\n",
    "plt.title('Math Marks')\n",
    "\n",
    "plt.subplot(2, 3, 5)\n",
    "sns.boxplot(y=data['Chemistry_Marks'], color='pink')\n",
    "plt.title('Chemistry Marks')\n",
    "\n",
    "plt.tight_layout()\n",
    "plt.show()"
   ]
  },
  {
   "cell_type": "markdown",
   "id": "202aae87",
   "metadata": {},
   "source": [
    "# Data Preprocessing & Model"
   ]
  },
  {
   "cell_type": "code",
   "execution_count": 262,
   "id": "258a0c98",
   "metadata": {},
   "outputs": [],
   "source": [
    "from sklearn.model_selection import train_test_split\n",
    "from sklearn.pipeline import Pipeline\n",
    "from sklearn.linear_model import LogisticRegression\n",
    "from sklearn.ensemble import RandomForestClassifier\n",
    "from sklearn.ensemble import GradientBoostingClassifier\n",
    "from sklearn.svm import SVC\n",
    "from sklearn.metrics import accuracy_score, precision_score, recall_score, f1_score, confusion_matrix"
   ]
  },
  {
   "cell_type": "code",
   "execution_count": 250,
   "id": "19dbb949",
   "metadata": {},
   "outputs": [
    {
     "data": {
      "text/html": [
       "<div>\n",
       "<style scoped>\n",
       "    .dataframe tbody tr th:only-of-type {\n",
       "        vertical-align: middle;\n",
       "    }\n",
       "\n",
       "    .dataframe tbody tr th {\n",
       "        vertical-align: top;\n",
       "    }\n",
       "\n",
       "    .dataframe thead th {\n",
       "        text-align: right;\n",
       "    }\n",
       "</style>\n",
       "<table border=\"1\" class=\"dataframe\">\n",
       "  <thead>\n",
       "    <tr style=\"text-align: right;\">\n",
       "      <th></th>\n",
       "      <th>Name</th>\n",
       "      <th>Age</th>\n",
       "      <th>Gender</th>\n",
       "      <th>Hours_Studied</th>\n",
       "      <th>IQ</th>\n",
       "      <th>Physics_Marks</th>\n",
       "      <th>Math_Marks</th>\n",
       "      <th>Chemistry_Marks</th>\n",
       "      <th>Has_Part_Time_Job</th>\n",
       "      <th>Study_Hours_Group</th>\n",
       "    </tr>\n",
       "  </thead>\n",
       "  <tbody>\n",
       "    <tr>\n",
       "      <th>0</th>\n",
       "      <td>Jason Vargas</td>\n",
       "      <td>19</td>\n",
       "      <td>Male</td>\n",
       "      <td>8.140821</td>\n",
       "      <td>92</td>\n",
       "      <td>87</td>\n",
       "      <td>43</td>\n",
       "      <td>85</td>\n",
       "      <td>True</td>\n",
       "      <td>High</td>\n",
       "    </tr>\n",
       "    <tr>\n",
       "      <th>1</th>\n",
       "      <td>Sandra Wiggins</td>\n",
       "      <td>35</td>\n",
       "      <td>Female</td>\n",
       "      <td>9.825626</td>\n",
       "      <td>112</td>\n",
       "      <td>86</td>\n",
       "      <td>81</td>\n",
       "      <td>54</td>\n",
       "      <td>False</td>\n",
       "      <td>High</td>\n",
       "    </tr>\n",
       "    <tr>\n",
       "      <th>2</th>\n",
       "      <td>Julia Olsen</td>\n",
       "      <td>33</td>\n",
       "      <td>Male</td>\n",
       "      <td>8.835372</td>\n",
       "      <td>131</td>\n",
       "      <td>87</td>\n",
       "      <td>52</td>\n",
       "      <td>57</td>\n",
       "      <td>True</td>\n",
       "      <td>High</td>\n",
       "    </tr>\n",
       "    <tr>\n",
       "      <th>3</th>\n",
       "      <td>Robert Pennington</td>\n",
       "      <td>33</td>\n",
       "      <td>Male</td>\n",
       "      <td>2.482483</td>\n",
       "      <td>138</td>\n",
       "      <td>70</td>\n",
       "      <td>86</td>\n",
       "      <td>83</td>\n",
       "      <td>False</td>\n",
       "      <td>Low</td>\n",
       "    </tr>\n",
       "    <tr>\n",
       "      <th>4</th>\n",
       "      <td>Kayla Sellers</td>\n",
       "      <td>28</td>\n",
       "      <td>Female</td>\n",
       "      <td>4.419793</td>\n",
       "      <td>90</td>\n",
       "      <td>95</td>\n",
       "      <td>48</td>\n",
       "      <td>83</td>\n",
       "      <td>True</td>\n",
       "      <td>Low</td>\n",
       "    </tr>\n",
       "  </tbody>\n",
       "</table>\n",
       "</div>"
      ],
      "text/plain": [
       "                Name  Age  Gender  Hours_Studied   IQ  Physics_Marks  \\\n",
       "0       Jason Vargas   19    Male       8.140821   92             87   \n",
       "1     Sandra Wiggins   35  Female       9.825626  112             86   \n",
       "2        Julia Olsen   33    Male       8.835372  131             87   \n",
       "3  Robert Pennington   33    Male       2.482483  138             70   \n",
       "4      Kayla Sellers   28  Female       4.419793   90             95   \n",
       "\n",
       "   Math_Marks  Chemistry_Marks  Has_Part_Time_Job Study_Hours_Group  \n",
       "0          43               85               True              High  \n",
       "1          81               54              False              High  \n",
       "2          52               57               True              High  \n",
       "3          86               83              False               Low  \n",
       "4          48               83               True               Low  "
      ]
     },
     "execution_count": 250,
     "metadata": {},
     "output_type": "execute_result"
    }
   ],
   "source": [
    "df.head()"
   ]
  },
  {
   "cell_type": "code",
   "execution_count": 251,
   "id": "2c1eec1c",
   "metadata": {},
   "outputs": [],
   "source": [
    "df['Gender'] = df['Gender'].map({'Male': 1, 'Female': 0})\n",
    "df['Study_Hours_Group'] = df['Study_Hours_Group'].map({'High': 1, 'Low': 0})"
   ]
  },
  {
   "cell_type": "code",
   "execution_count": 252,
   "id": "a134776e",
   "metadata": {},
   "outputs": [],
   "source": [
    "df['Has_Part_Time_Job'] = df['Has_Part_Time_Job'].astype(int)"
   ]
  },
  {
   "cell_type": "code",
   "execution_count": 253,
   "id": "f9aad8b5",
   "metadata": {},
   "outputs": [
    {
     "data": {
      "text/html": [
       "<div>\n",
       "<style scoped>\n",
       "    .dataframe tbody tr th:only-of-type {\n",
       "        vertical-align: middle;\n",
       "    }\n",
       "\n",
       "    .dataframe tbody tr th {\n",
       "        vertical-align: top;\n",
       "    }\n",
       "\n",
       "    .dataframe thead th {\n",
       "        text-align: right;\n",
       "    }\n",
       "</style>\n",
       "<table border=\"1\" class=\"dataframe\">\n",
       "  <thead>\n",
       "    <tr style=\"text-align: right;\">\n",
       "      <th></th>\n",
       "      <th>Name</th>\n",
       "      <th>Age</th>\n",
       "      <th>Gender</th>\n",
       "      <th>Hours_Studied</th>\n",
       "      <th>IQ</th>\n",
       "      <th>Physics_Marks</th>\n",
       "      <th>Math_Marks</th>\n",
       "      <th>Chemistry_Marks</th>\n",
       "      <th>Has_Part_Time_Job</th>\n",
       "      <th>Study_Hours_Group</th>\n",
       "    </tr>\n",
       "  </thead>\n",
       "  <tbody>\n",
       "    <tr>\n",
       "      <th>0</th>\n",
       "      <td>Jason Vargas</td>\n",
       "      <td>19</td>\n",
       "      <td>1</td>\n",
       "      <td>8.140821</td>\n",
       "      <td>92</td>\n",
       "      <td>87</td>\n",
       "      <td>43</td>\n",
       "      <td>85</td>\n",
       "      <td>1</td>\n",
       "      <td>1</td>\n",
       "    </tr>\n",
       "    <tr>\n",
       "      <th>1</th>\n",
       "      <td>Sandra Wiggins</td>\n",
       "      <td>35</td>\n",
       "      <td>0</td>\n",
       "      <td>9.825626</td>\n",
       "      <td>112</td>\n",
       "      <td>86</td>\n",
       "      <td>81</td>\n",
       "      <td>54</td>\n",
       "      <td>0</td>\n",
       "      <td>1</td>\n",
       "    </tr>\n",
       "    <tr>\n",
       "      <th>2</th>\n",
       "      <td>Julia Olsen</td>\n",
       "      <td>33</td>\n",
       "      <td>1</td>\n",
       "      <td>8.835372</td>\n",
       "      <td>131</td>\n",
       "      <td>87</td>\n",
       "      <td>52</td>\n",
       "      <td>57</td>\n",
       "      <td>1</td>\n",
       "      <td>1</td>\n",
       "    </tr>\n",
       "    <tr>\n",
       "      <th>3</th>\n",
       "      <td>Robert Pennington</td>\n",
       "      <td>33</td>\n",
       "      <td>1</td>\n",
       "      <td>2.482483</td>\n",
       "      <td>138</td>\n",
       "      <td>70</td>\n",
       "      <td>86</td>\n",
       "      <td>83</td>\n",
       "      <td>0</td>\n",
       "      <td>0</td>\n",
       "    </tr>\n",
       "    <tr>\n",
       "      <th>4</th>\n",
       "      <td>Kayla Sellers</td>\n",
       "      <td>28</td>\n",
       "      <td>0</td>\n",
       "      <td>4.419793</td>\n",
       "      <td>90</td>\n",
       "      <td>95</td>\n",
       "      <td>48</td>\n",
       "      <td>83</td>\n",
       "      <td>1</td>\n",
       "      <td>0</td>\n",
       "    </tr>\n",
       "  </tbody>\n",
       "</table>\n",
       "</div>"
      ],
      "text/plain": [
       "                Name  Age  Gender  Hours_Studied   IQ  Physics_Marks  \\\n",
       "0       Jason Vargas   19       1       8.140821   92             87   \n",
       "1     Sandra Wiggins   35       0       9.825626  112             86   \n",
       "2        Julia Olsen   33       1       8.835372  131             87   \n",
       "3  Robert Pennington   33       1       2.482483  138             70   \n",
       "4      Kayla Sellers   28       0       4.419793   90             95   \n",
       "\n",
       "   Math_Marks  Chemistry_Marks  Has_Part_Time_Job  Study_Hours_Group  \n",
       "0          43               85                  1                  1  \n",
       "1          81               54                  0                  1  \n",
       "2          52               57                  1                  1  \n",
       "3          86               83                  0                  0  \n",
       "4          48               83                  1                  0  "
      ]
     },
     "execution_count": 253,
     "metadata": {},
     "output_type": "execute_result"
    }
   ],
   "source": [
    "df.head()"
   ]
  },
  {
   "cell_type": "code",
   "execution_count": 254,
   "id": "c07be3b2",
   "metadata": {},
   "outputs": [
    {
     "name": "stdout",
     "output_type": "stream",
     "text": [
      "<class 'pandas.core.frame.DataFrame'>\n",
      "RangeIndex: 5000 entries, 0 to 4999\n",
      "Data columns (total 10 columns):\n",
      " #   Column             Non-Null Count  Dtype  \n",
      "---  ------             --------------  -----  \n",
      " 0   Name               5000 non-null   object \n",
      " 1   Age                5000 non-null   int64  \n",
      " 2   Gender             5000 non-null   int64  \n",
      " 3   Hours_Studied      5000 non-null   float64\n",
      " 4   IQ                 5000 non-null   int64  \n",
      " 5   Physics_Marks      5000 non-null   int64  \n",
      " 6   Math_Marks         5000 non-null   int64  \n",
      " 7   Chemistry_Marks    5000 non-null   int64  \n",
      " 8   Has_Part_Time_Job  5000 non-null   int64  \n",
      " 9   Study_Hours_Group  5000 non-null   int64  \n",
      "dtypes: float64(1), int64(8), object(1)\n",
      "memory usage: 390.8+ KB\n"
     ]
    }
   ],
   "source": [
    "df.info()"
   ]
  },
  {
   "cell_type": "code",
   "execution_count": 256,
   "id": "8e99425f",
   "metadata": {},
   "outputs": [],
   "source": [
    "X = df.drop(columns=['Name','Has_Part_Time_Job'], axis=1)\n",
    "y = df['Has_Part_Time_Job']"
   ]
  },
  {
   "cell_type": "code",
   "execution_count": 257,
   "id": "1c4fb101",
   "metadata": {},
   "outputs": [],
   "source": [
    "X_train, X_test, y_train, y_test =train_test_split(X,y, test_size=0.2, random_state=42) "
   ]
  },
  {
   "cell_type": "code",
   "execution_count": 258,
   "id": "7f508c10",
   "metadata": {},
   "outputs": [
    {
     "data": {
      "text/html": [
       "<div>\n",
       "<style scoped>\n",
       "    .dataframe tbody tr th:only-of-type {\n",
       "        vertical-align: middle;\n",
       "    }\n",
       "\n",
       "    .dataframe tbody tr th {\n",
       "        vertical-align: top;\n",
       "    }\n",
       "\n",
       "    .dataframe thead th {\n",
       "        text-align: right;\n",
       "    }\n",
       "</style>\n",
       "<table border=\"1\" class=\"dataframe\">\n",
       "  <thead>\n",
       "    <tr style=\"text-align: right;\">\n",
       "      <th></th>\n",
       "      <th>Age</th>\n",
       "      <th>Gender</th>\n",
       "      <th>Hours_Studied</th>\n",
       "      <th>IQ</th>\n",
       "      <th>Physics_Marks</th>\n",
       "      <th>Math_Marks</th>\n",
       "      <th>Chemistry_Marks</th>\n",
       "      <th>Study_Hours_Group</th>\n",
       "    </tr>\n",
       "  </thead>\n",
       "  <tbody>\n",
       "    <tr>\n",
       "      <th>1501</th>\n",
       "      <td>37</td>\n",
       "      <td>1</td>\n",
       "      <td>6.043157</td>\n",
       "      <td>88</td>\n",
       "      <td>94</td>\n",
       "      <td>71</td>\n",
       "      <td>75</td>\n",
       "      <td>1</td>\n",
       "    </tr>\n",
       "    <tr>\n",
       "      <th>2586</th>\n",
       "      <td>24</td>\n",
       "      <td>1</td>\n",
       "      <td>7.382802</td>\n",
       "      <td>144</td>\n",
       "      <td>66</td>\n",
       "      <td>43</td>\n",
       "      <td>89</td>\n",
       "      <td>1</td>\n",
       "    </tr>\n",
       "    <tr>\n",
       "      <th>2653</th>\n",
       "      <td>43</td>\n",
       "      <td>1</td>\n",
       "      <td>4.423837</td>\n",
       "      <td>80</td>\n",
       "      <td>49</td>\n",
       "      <td>78</td>\n",
       "      <td>68</td>\n",
       "      <td>0</td>\n",
       "    </tr>\n",
       "    <tr>\n",
       "      <th>1055</th>\n",
       "      <td>32</td>\n",
       "      <td>0</td>\n",
       "      <td>1.521753</td>\n",
       "      <td>84</td>\n",
       "      <td>46</td>\n",
       "      <td>86</td>\n",
       "      <td>43</td>\n",
       "      <td>0</td>\n",
       "    </tr>\n",
       "    <tr>\n",
       "      <th>705</th>\n",
       "      <td>19</td>\n",
       "      <td>1</td>\n",
       "      <td>6.224565</td>\n",
       "      <td>129</td>\n",
       "      <td>79</td>\n",
       "      <td>60</td>\n",
       "      <td>75</td>\n",
       "      <td>1</td>\n",
       "    </tr>\n",
       "  </tbody>\n",
       "</table>\n",
       "</div>"
      ],
      "text/plain": [
       "      Age  Gender  Hours_Studied   IQ  Physics_Marks  Math_Marks  \\\n",
       "1501   37       1       6.043157   88             94          71   \n",
       "2586   24       1       7.382802  144             66          43   \n",
       "2653   43       1       4.423837   80             49          78   \n",
       "1055   32       0       1.521753   84             46          86   \n",
       "705    19       1       6.224565  129             79          60   \n",
       "\n",
       "      Chemistry_Marks  Study_Hours_Group  \n",
       "1501               75                  1  \n",
       "2586               89                  1  \n",
       "2653               68                  0  \n",
       "1055               43                  0  \n",
       "705                75                  1  "
      ]
     },
     "execution_count": 258,
     "metadata": {},
     "output_type": "execute_result"
    }
   ],
   "source": [
    "X_test.head()"
   ]
  },
  {
   "cell_type": "code",
   "execution_count": 259,
   "id": "df683c49",
   "metadata": {},
   "outputs": [],
   "source": [
    "# Initialize and train each model\n",
    "models = {\n",
    "    \"Logistic Regression\": LogisticRegression(),\n",
    "    \"Random Forest Classifier\": RandomForestClassifier(),\n",
    "    \"Gradient Boosting Classifier\": GradientBoostingClassifier(),\n",
    "    \"Support Vector Machine (SVM)\": SVC()\n",
    "}"
   ]
  },
  {
   "cell_type": "code",
   "execution_count": 260,
   "id": "6f6ede45",
   "metadata": {},
   "outputs": [],
   "source": [
    "results = []\n",
    "\n",
    "for model_name, model in models.items():\n",
    "    model.fit(X_train, y_train)\n",
    "    y_pred = model.predict(X_test)\n",
    "\n",
    "    accuracy = accuracy_score(y_test, y_pred)\n",
    "    precision = precision_score(y_test, y_pred)\n",
    "    recall = recall_score(y_test, y_pred)\n",
    "    f1 = f1_score(y_test, y_pred)\n",
    "    conf_matrix = confusion_matrix(y_test, y_pred)\n",
    "\n",
    "    result = {\n",
    "        \"Model\": model_name,\n",
    "        \"Accuracy\": accuracy,\n",
    "        \"Precision\": precision,\n",
    "        \"Recall\": recall,\n",
    "        \"F1 Score\": f1,\n",
    "        \"Confusion Matrix\": conf_matrix\n",
    "    }\n",
    "\n",
    "    results.append(result)\n",
    "\n"
   ]
  },
  {
   "cell_type": "code",
   "execution_count": 263,
   "id": "8fc7a36b",
   "metadata": {},
   "outputs": [
    {
     "name": "stdout",
     "output_type": "stream",
     "text": [
      "Model: Logistic Regression\n",
      "Accuracy: 0.50\n",
      "Precision: 0.50\n",
      "Recall: 0.67\n",
      "F1 Score: 0.57\n",
      "Confusion Matrix:\n",
      "[[170 336]\n",
      " [163 331]]\n",
      "\n",
      "Model: Random Forest Classifier\n",
      "Accuracy: 0.48\n",
      "Precision: 0.48\n",
      "Recall: 0.47\n",
      "F1 Score: 0.47\n",
      "Confusion Matrix:\n",
      "[[252 254]\n",
      " [262 232]]\n",
      "\n",
      "Model: Gradient Boosting Classifier\n",
      "Accuracy: 0.48\n",
      "Precision: 0.48\n",
      "Recall: 0.55\n",
      "F1 Score: 0.51\n",
      "Confusion Matrix:\n",
      "[[209 297]\n",
      " [222 272]]\n",
      "\n",
      "Model: Support Vector Machine (SVM)\n",
      "Accuracy: 0.48\n",
      "Precision: 0.48\n",
      "Recall: 0.78\n",
      "F1 Score: 0.60\n",
      "Confusion Matrix:\n",
      "[[ 92 414]\n",
      " [108 386]]\n",
      "\n"
     ]
    }
   ],
   "source": [
    "for result in results:\n",
    "    print(f\"Model: {result['Model']}\")\n",
    "    print(f\"Accuracy: {result['Accuracy']:.2f}\")\n",
    "    print(f\"Precision: {result['Precision']:.2f}\")\n",
    "    print(f\"Recall: {result['Recall']:.2f}\")\n",
    "    print(f\"F1 Score: {result['F1 Score']:.2f}\")\n",
    "    print(\"Confusion Matrix:\")\n",
    "    print(result['Confusion Matrix'])\n",
    "    print()"
   ]
  },
  {
   "cell_type": "code",
   "execution_count": 268,
   "id": "ba40040d",
   "metadata": {},
   "outputs": [
    {
     "name": "stdout",
     "output_type": "stream",
     "text": [
      "Accuracy: 0.48\n",
      "Precision: 0.48\n"
     ]
    }
   ],
   "source": [
    "model = LogisticRegression()\n",
    "model.fit(X_train, y_train)\n",
    "\n",
    "accuracy = accuracy_score(y_test, y_pred)\n",
    "precision = precision_score(y_test, y_pred)\n",
    "\n",
    "print(f\"Accuracy: {result['Accuracy']:.2f}\")\n",
    "print(f\"Precision: {result['Precision']:.2f}\")"
   ]
  },
  {
   "cell_type": "code",
   "execution_count": 269,
   "id": "d7ac43ed",
   "metadata": {},
   "outputs": [],
   "source": [
    "pickle.dump(model, open('model.pkl','wb'))"
   ]
  }
 ],
 "metadata": {
  "kernelspec": {
   "display_name": "Python 3 (ipykernel)",
   "language": "python",
   "name": "python3"
  },
  "language_info": {
   "codemirror_mode": {
    "name": "ipython",
    "version": 3
   },
   "file_extension": ".py",
   "mimetype": "text/x-python",
   "name": "python",
   "nbconvert_exporter": "python",
   "pygments_lexer": "ipython3",
   "version": "3.10.9"
  }
 },
 "nbformat": 4,
 "nbformat_minor": 5
}
